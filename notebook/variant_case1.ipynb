{
 "cells": [
  {
   "cell_type": "markdown",
   "id": "7b54c43a-a43d-4bb9-8c36-fe3c48ef2043",
   "metadata": {},
   "source": [
    "# Variant Interpretation Case Study: Frameshift variant in REEP1\n",
    "\n",
    "This notebook walks through the clinical classification of a hypothetical frameshift variant using ACMG guidelines. The purpose of this exercise is to illustrate my understanding of variant curation principles as applied in a diagnostic genomics context."
   ]
  },
  {
   "cell_type": "markdown",
   "id": "820bf416-318e-4627-a888-e30fb0ad728e",
   "metadata": {},
   "source": [
    "**Patient Information:**\n",
    "\n",
    "A 68-year-old male presents with a phenotype consistent with “pure” hereditary spastic paraplegia. Multiple individuals in his family appear similarly affected. The family pedigree suggests an autosomal dominant mode of inheritance.\n",
    "\n",
    "A targeted gene panel was ordered for hereditary spastic paraplegia, including the following genes: *SPAST*, *ATL1*, *REEP1*, and *NIPA1*."
   ]
  },
  {
   "cell_type": "markdown",
   "id": "c1c0631d-b42d-4626-902c-0e4a3661e3f0",
   "metadata": {},
   "source": [
    "The VCF file is parsed below to extract basic variant-level information:"
   ]
  },
  {
   "cell_type": "code",
   "execution_count": 9,
   "id": "184ace25-c458-4820-a256-31250b965883",
   "metadata": {},
   "outputs": [
    {
     "data": {
      "text/html": [
       "<div>\n",
       "<style scoped>\n",
       "    .dataframe tbody tr th:only-of-type {\n",
       "        vertical-align: middle;\n",
       "    }\n",
       "\n",
       "    .dataframe tbody tr th {\n",
       "        vertical-align: top;\n",
       "    }\n",
       "\n",
       "    .dataframe thead th {\n",
       "        text-align: right;\n",
       "    }\n",
       "</style>\n",
       "<table border=\"1\" class=\"dataframe\">\n",
       "  <thead>\n",
       "    <tr style=\"text-align: right;\">\n",
       "      <th></th>\n",
       "      <th>#CHROM</th>\n",
       "      <th>POS</th>\n",
       "      <th>ID</th>\n",
       "      <th>REF</th>\n",
       "      <th>ALT</th>\n",
       "      <th>QUAL</th>\n",
       "      <th>FILTER</th>\n",
       "      <th>INFO</th>\n",
       "    </tr>\n",
       "  </thead>\n",
       "  <tbody>\n",
       "    <tr>\n",
       "      <th>0</th>\n",
       "      <td>2</td>\n",
       "      <td>86523147</td>\n",
       "      <td>.</td>\n",
       "      <td>C</td>\n",
       "      <td>-</td>\n",
       "      <td>.</td>\n",
       "      <td>PASS</td>\n",
       "      <td>ACMG_CLASS=Likely_pathogenic</td>\n",
       "    </tr>\n",
       "  </tbody>\n",
       "</table>\n",
       "</div>"
      ],
      "text/plain": [
       "   #CHROM       POS ID REF ALT QUAL FILTER                          INFO\n",
       "0       2  86523147  .   C   -    .   PASS  ACMG_CLASS=Likely_pathogenic"
      ]
     },
     "execution_count": 9,
     "metadata": {},
     "output_type": "execute_result"
    }
   ],
   "source": [
    "import pandas as pd\n",
    "from io import StringIO\n",
    "vcf_path = \"mock_variant.vcf\"\n",
    "with open(vcf_path) as f:\n",
    "    lines = [line for line in f if not line.startswith(\"##\")]\n",
    "\n",
    "# Join the header and data lines\n",
    "vcf_content = \"\".join(lines)\n",
    "\n",
    "# Load into a DataFrame\n",
    "vcf_df = pd.read_csv(StringIO(vcf_content), sep=\"\\t\")\n",
    "\n",
    "vcf_df.head()"
   ]
  },
  {
   "cell_type": "markdown",
   "id": "fd9562f2-7ac0-4d23-aa66-6c7ff7a863bc",
   "metadata": {},
   "source": [
    "Following external annotation using tools such as Ensembl VEP or ANNOVAR, the following variant was identified:\n",
    "\n",
    "A heterozygous *REEP1* (NM_022912.2): c.471del, p.(Thr158fs) variant."
   ]
  },
  {
   "cell_type": "markdown",
   "id": "7bbe76f8-6170-450b-b3d7-e80f09173fba",
   "metadata": {},
   "source": [
    "# Analysis:\n",
    "**Variant type:**\n",
    "- This is frameshift variant likely to leads to nonsense mediated decay (NMD)\n",
    "- Too far upstream to warrant PVS1_VS criterion\n",
    "- Variant removes 10% of protein and after MDT discussion PVS1_Strong is chosen <br>\n",
    "**Classification: PVS1_Strong**"
   ]
  },
  {
   "cell_type": "markdown",
   "id": "3e11cb19-29a3-4312-b0c8-d99cc70d45c3",
   "metadata": {},
   "source": [
    "**Inheritence data:** \n",
    "- Family history suggests autosomal dominant inheritance\n",
    "- Multiple family members seem to be affected but segregation data is insufficient\n",
    "- There are no reports of this variant in the literature <br>\n",
    "**No classification**"
   ]
  },
  {
   "cell_type": "markdown",
   "id": "a37012c8-befa-43d1-bd93-cbaa8510be6c",
   "metadata": {},
   "source": [
    "**Population databases:**\n",
    "- Variant is not available in gnomAD or other major population databases <br>\n",
    "**Classification: PM2_Moderate**"
   ]
  },
  {
   "cell_type": "markdown",
   "id": "5a10ffd0-3c17-40a1-96b8-38b062c5e255",
   "metadata": {},
   "source": [
    "**Computational and predictive data:**\n",
    "- In silico tools discussed in course were developed to evaluate missense and splice site variants, not frameshifts <br>\n",
    "**No classification**"
   ]
  },
  {
   "cell_type": "markdown",
   "id": "f4aebd4e-4589-43b5-ad0c-72a1a01c3900",
   "metadata": {},
   "source": [
    "**Functional data:**\n",
    "- There are no functional studies for this variant at the time <br>\n",
    "**No classification**"
   ]
  },
  {
   "cell_type": "markdown",
   "id": "68d4cebd-536c-4ce3-b0ec-032a95092da4",
   "metadata": {},
   "source": [
    "**Phenotype data:** \n",
    "- Patient has only been tested using a limited gene panel\n",
    "- There are many genes associated with the phenotypes presented in the patient <br>\n",
    "**No classification**"
   ]
  },
  {
   "cell_type": "markdown",
   "id": "d5edc6ac-8fc4-4487-9403-7822a12610ba",
   "metadata": {},
   "source": [
    "# Final classification: Likely Pathogenic\n",
    "Analysis results: PVS1_Strong and PM2_Moderate <br>\n",
    "According to the ACMG guidelines, a combination of one Strong and one Moderate evidence supports a **Likely Pathogenic** classification"
   ]
  },
  {
   "cell_type": "markdown",
   "id": "edef3da4-bfeb-4030-af29-45098a93bf8d",
   "metadata": {},
   "source": [
    "**Further considerations:** <br>\n",
    "Given the family history, if additional relatives are available for testing, segregation analysis may strengthen the interpretation. A detailed pedigree review during MDT discussion could help determine whether such analysis would be informative."
   ]
  }
 ],
 "metadata": {
  "kernelspec": {
   "display_name": "Python [conda env:base] *",
   "language": "python",
   "name": "conda-base-py"
  },
  "language_info": {
   "codemirror_mode": {
    "name": "ipython",
    "version": 3
   },
   "file_extension": ".py",
   "mimetype": "text/x-python",
   "name": "python",
   "nbconvert_exporter": "python",
   "pygments_lexer": "ipython3",
   "version": "3.13.5"
  }
 },
 "nbformat": 4,
 "nbformat_minor": 5
}
